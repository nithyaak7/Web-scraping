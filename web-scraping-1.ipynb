{
 "cells": [
  {
   "cell_type": "code",
   "execution_count": null,
   "metadata": {},
   "outputs": [],
   "source": [
    "from selenium import webdriver\n",
    "from selenium.webdriver.common.by import By\n",
    "from bs4 import BeautifulSoup\n",
    "import requests\n",
    "import openpyxl, time\n",
    "import pandas as pd"
   ]
  },
  {
   "cell_type": "code",
   "execution_count": null,
   "metadata": {},
   "outputs": [],
   "source": [
    "# Set up Selenium WebDriver (make sure you have the appropriate WebDriver installed, e.g., ChromeDriver)\n",
    "driver = webdriver.Chrome()  # Or use webdriver.Edge(), webdriver.Firefox(), etc.\n",
    "\n",
    "url = 'https://music.apple.com/in/new/top-charts/songs'\n",
    "page = driver.get(url)\n",
    "\n",
    "# Wait for the page to load (adjust the sleep time as needed)\n",
    "time.sleep(5)\n",
    "\n",
    "# Get the page source after JavaScript has rendered\n",
    "page_source = driver.page_source\n",
    "\n",
    "# Parse the page source with BeautifulSoup\n",
    "soup = BeautifulSoup(page_source,'html.parser')\n",
    "    \n",
    "# Find all song rows\n",
    "song_rows = soup.find_all('div', class_='songs-list-row')\n",
    "\n",
    "# Extract details for each song\n",
    "songs = []\n",
    "for row in song_rows:\n",
    "    # Extract song name\n",
    "    song_name = row.find('div', class_='songs-list-row__song-name', attrs={'data-testid': 'track-title'}).text.strip()\n",
    "\n",
    "    # Extract artists\n",
    "    artists = [artist.text.strip() for artist in row.select('div[data-testid=\"track-title-by-line\"] a')]\n",
    "\n",
    "    # Extract album name\n",
    "    album = row.find('div', class_='songs-list__col--tertiary').find('a').text.strip()\n",
    "\n",
    "    # Extract duration\n",
    "    duration = row.find('time', class_='songs-list-row__length').text.strip()\n",
    "\n",
    "    # Append the song details to the list\n",
    "    songs.append({\n",
    "        'song_name': song_name,\n",
    "        'artists': artists,\n",
    "        'album': album,\n",
    "        'duration': duration\n",
    "    })\n",
    "\n",
    "# Convert the list of songs to a Pandas DataFrame\n",
    "df = pd.DataFrame(songs)\n",
    "\n",
    "# Display the DataFrame\n",
    "print(df)\n",
    "\n",
    "# Save the DataFrame to Excel file\n",
    "\n",
    "df.to_excel('songs_list.xlsx', index=False, engine='openpyxl')\n",
    "\n",
    "# Display a message to confirm the file was saved\n",
    "print(\"Data saved to songs_list.xlsx\")\n",
    "\n",
    "# Close the browser\n",
    "driver.quit()"
   ]
  },
  {
   "cell_type": "code",
   "execution_count": 37,
   "metadata": {},
   "outputs": [
    {
     "name": "stdout",
     "output_type": "stream",
     "text": [
      "     song_name                   artists                 album duration\n",
      "0         Jhol   [Maanu, Annural Khalid]         Jhol - Single     4:25\n",
      "1      Supreme                   [Shubh]      Supreme - Single     2:58\n",
      "2      Pal Pal  [AFUSIC, AliSoomroMusic]      Pal Pal - Single     2:27\n",
      "3         Wavy             [Karan Aujla]         Wavy - Single     2:41\n",
      "4  Finding Her       [Kushagra, Bharath]  Finding Her - Single     3:27\n"
     ]
    }
   ],
   "source": [
    "# Look at the dataframe\n",
    "print(df.head())"
   ]
  },
  {
   "cell_type": "code",
   "execution_count": null,
   "metadata": {},
   "outputs": [],
   "source": []
  }
 ],
 "metadata": {
  "kernelspec": {
   "display_name": "Python 3",
   "language": "python",
   "name": "python3"
  },
  "language_info": {
   "codemirror_mode": {
    "name": "ipython",
    "version": 3
   },
   "file_extension": ".py",
   "mimetype": "text/x-python",
   "name": "python",
   "nbconvert_exporter": "python",
   "pygments_lexer": "ipython3",
   "version": "3.12.4"
  }
 },
 "nbformat": 4,
 "nbformat_minor": 2
}
